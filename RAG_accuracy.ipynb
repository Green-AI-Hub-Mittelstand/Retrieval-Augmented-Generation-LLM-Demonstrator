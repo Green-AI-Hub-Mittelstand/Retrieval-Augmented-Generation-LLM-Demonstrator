{
 "cells": [
  {
   "cell_type": "code",
   "execution_count": 3,
   "metadata": {},
   "outputs": [],
   "source": [
    "from rag import RAG\n",
    "from mlx_lm import load, generate\n",
    "import deepl\n",
    "from tqdm import tqdm\n",
    "import matplotlib.pyplot as plt"
   ]
  },
  {
   "cell_type": "code",
   "execution_count": 4,
   "metadata": {},
   "outputs": [],
   "source": [
    "AUTH_KEY = \"TOKEN\"\n",
    "translator = deepl.Translator(AUTH_KEY)"
   ]
  },
  {
   "cell_type": "code",
   "execution_count": 5,
   "metadata": {},
   "outputs": [
    {
     "data": {
      "application/vnd.jupyter.widget-view+json": {
       "model_id": "98cefb7383ff4771abf7dfb6e4c92110",
       "version_major": 2,
       "version_minor": 0
      },
      "text/plain": [
       "Fetching 8 files:   0%|          | 0/8 [00:00<?, ?it/s]"
      ]
     },
     "metadata": {},
     "output_type": "display_data"
    },
    {
     "data": {
      "application/vnd.jupyter.widget-view+json": {
       "model_id": "be2425eab3564dd08e0ccab56e436e4e",
       "version_major": 2,
       "version_minor": 0
      },
      "text/plain": [
       "tokenizer_config.json:   0%|          | 0.00/2.15k [00:00<?, ?B/s]"
      ]
     },
     "metadata": {},
     "output_type": "display_data"
    },
    {
     "data": {
      "application/vnd.jupyter.widget-view+json": {
       "model_id": "3200e12cf1c043eb8486186f30e141fe",
       "version_major": 2,
       "version_minor": 0
      },
      "text/plain": [
       "special_tokens_map.json:   0%|          | 0.00/636 [00:00<?, ?B/s]"
      ]
     },
     "metadata": {},
     "output_type": "display_data"
    },
    {
     "data": {
      "application/vnd.jupyter.widget-view+json": {
       "model_id": "602e74878a9c493c85eecb878bdca295",
       "version_major": 2,
       "version_minor": 0
      },
      "text/plain": [
       "config.json:   0%|          | 0.00/2.38k [00:00<?, ?B/s]"
      ]
     },
     "metadata": {},
     "output_type": "display_data"
    },
    {
     "data": {
      "application/vnd.jupyter.widget-view+json": {
       "model_id": "45bba125f30c47978146f2bb5ac68e7a",
       "version_major": 2,
       "version_minor": 0
      },
      "text/plain": [
       "model.safetensors.index.json:   0%|          | 0.00/55.3k [00:00<?, ?B/s]"
      ]
     },
     "metadata": {},
     "output_type": "display_data"
    },
    {
     "data": {
      "application/vnd.jupyter.widget-view+json": {
       "model_id": "0d3499d2c9b44cbab3bfda7c2fa14d9a",
       "version_major": 2,
       "version_minor": 0
      },
      "text/plain": [
       "tokenizer.model:   0%|          | 0.00/4.24M [00:00<?, ?B/s]"
      ]
     },
     "metadata": {},
     "output_type": "display_data"
    },
    {
     "data": {
      "application/vnd.jupyter.widget-view+json": {
       "model_id": "f114d36397e94728a3248206f53ddfe1",
       "version_major": 2,
       "version_minor": 0
      },
      "text/plain": [
       "tokenizer.json:   0%|          | 0.00/17.5M [00:00<?, ?B/s]"
      ]
     },
     "metadata": {},
     "output_type": "display_data"
    },
    {
     "data": {
      "application/vnd.jupyter.widget-view+json": {
       "model_id": "b26d20d1a89146168bce5124ce6c411f",
       "version_major": 2,
       "version_minor": 0
      },
      "text/plain": [
       "model-00001-of-00002.safetensors:   0%|          | 0.00/5.34G [00:00<?, ?B/s]"
      ]
     },
     "metadata": {},
     "output_type": "display_data"
    },
    {
     "data": {
      "application/vnd.jupyter.widget-view+json": {
       "model_id": "73d1ca5591b94a0c8c8202bc1c2b9a17",
       "version_major": 2,
       "version_minor": 0
      },
      "text/plain": [
       "model-00002-of-00002.safetensors:   0%|          | 0.00/595M [00:00<?, ?B/s]"
      ]
     },
     "metadata": {},
     "output_type": "display_data"
    },
    {
     "name": "stderr",
     "output_type": "stream",
     "text": [
      "Error while downloading from https://cdn-lfs-us-1.hf.co/repos/ee/3f/ee3f4b3dcf494bf2166dda71a071302d2b07986251f1aae3a4504eaf057e4b86/0ec1248c4589233636c3c49423a9ec29fae3f66659b8b40f7fbc18069f8f0e47?response-content-disposition=inline%3B+filename*%3DUTF-8%27%27model-00001-of-00002.safetensors%3B+filename%3D%22model-00001-of-00002.safetensors%22%3B&Expires=1738145552&Policy=eyJTdGF0ZW1lbnQiOlt7IkNvbmRpdGlvbiI6eyJEYXRlTGVzc1RoYW4iOnsiQVdTOkVwb2NoVGltZSI6MTczODE0NTU1Mn19LCJSZXNvdXJjZSI6Imh0dHBzOi8vY2RuLWxmcy11cy0xLmhmLmNvL3JlcG9zL2VlLzNmL2VlM2Y0YjNkY2Y0OTRiZjIxNjZkZGE3MWEwNzEzMDJkMmIwNzk4NjI1MWYxYWFlM2E0NTA0ZWFmMDU3ZTRiODYvMGVjMTI0OGM0NTg5MjMzNjM2YzNjNDk0MjNhOWVjMjlmYWUzZjY2NjU5YjhiNDBmN2ZiYzE4MDY5ZjhmMGU0Nz9yZXNwb25zZS1jb250ZW50LWRpc3Bvc2l0aW9uPSoifV19&Signature=q-iLEgKG6Jq8PBE5E5rI6D8MypBwQE45JWLucABgHSK-rDrEUkB%7EXuI34P17tK895pdDnfDVZ2VpxBEgE2RhjVfJM75CKMvGIPbFRD9-yMcgIHjlkF4lKr5JiIrse3Ai2nJd8I-EXmza35VnyVuMaqOnNP-anj7vfAAiypuj7MAJGoaAPKqhqCrgPY1FpXJmbHeeBP33pqqvljPPyFeYlHuFM3b3KkgFaljPHZ5vCi46YMqpvixZ7n2pkCeMrohm7Wl6j4kb6Rr06GIneO01pZgrDjjl96B-DMBvJlCCEqnaBp3gu0r5z%7EzpxggRxAx7MoPgjXnS4KTOWS9kabSJsQ__&Key-Pair-Id=K24J24Z295AEI9: HTTPSConnectionPool(host='cdn-lfs-us-1.hf.co', port=443): Read timed out.\n",
      "Trying to resume download...\n",
      "Error while downloading from https://cdn-lfs-us-1.hf.co/repos/ee/3f/ee3f4b3dcf494bf2166dda71a071302d2b07986251f1aae3a4504eaf057e4b86/b1307c70f1d7e52dbc106305a906f7f77e31f3dae5eb1230a97e522e6e54e3da?response-content-disposition=inline%3B+filename*%3DUTF-8%27%27model-00002-of-00002.safetensors%3B+filename%3D%22model-00002-of-00002.safetensors%22%3B&Expires=1738145552&Policy=eyJTdGF0ZW1lbnQiOlt7IkNvbmRpdGlvbiI6eyJEYXRlTGVzc1RoYW4iOnsiQVdTOkVwb2NoVGltZSI6MTczODE0NTU1Mn19LCJSZXNvdXJjZSI6Imh0dHBzOi8vY2RuLWxmcy11cy0xLmhmLmNvL3JlcG9zL2VlLzNmL2VlM2Y0YjNkY2Y0OTRiZjIxNjZkZGE3MWEwNzEzMDJkMmIwNzk4NjI1MWYxYWFlM2E0NTA0ZWFmMDU3ZTRiODYvYjEzMDdjNzBmMWQ3ZTUyZGJjMTA2MzA1YTkwNmY3Zjc3ZTMxZjNkYWU1ZWIxMjMwYTk3ZTUyMmU2ZTU0ZTNkYT9yZXNwb25zZS1jb250ZW50LWRpc3Bvc2l0aW9uPSoifV19&Signature=Yzhxtmr6BL-g9yK5ocJjtNRzIyNeCiXK0bAwSTD0WaCZNhxlGq3Ziwxx5vyKxecVV3V318F8qmZISug8WhD1oYKooz8raXrKN1dK6FHGDCsoW2bVkpbnZEtQF1QvomxW2qIRJVg5Zh-rI8F1DnOH7r3Pv9tzq-DNsRnn4IlM43LVd4if1yQ1Jqdkb1TNeP04aW1kcllFeNc1y1tO0v2eFWhaCa7d2YAARzElISvXFkprr%7EkLxMfFE3vHRWyIjWeheWijsgkKUvzUxCFTHVVjNa9ZO1pdBA2XV0sYSy0Xs1-1nTtPvycHQfmMQsaQNHWElWgOH55OH%7E%7EWf-M8v-XagA__&Key-Pair-Id=K24J24Z295AEI9: HTTPSConnectionPool(host='cdn-lfs-us-1.hf.co', port=443): Read timed out.\n",
      "Trying to resume download...\n"
     ]
    },
    {
     "data": {
      "application/vnd.jupyter.widget-view+json": {
       "model_id": "5e985873d01c4cbd9e36c822fa91587c",
       "version_major": 2,
       "version_minor": 0
      },
      "text/plain": [
       "model-00002-of-00002.safetensors:  34%|###3      | 199M/595M [00:00<?, ?B/s]"
      ]
     },
     "metadata": {},
     "output_type": "display_data"
    },
    {
     "data": {
      "application/vnd.jupyter.widget-view+json": {
       "model_id": "35d039876bc442fcb025ac6359f5c30f",
       "version_major": 2,
       "version_minor": 0
      },
      "text/plain": [
       "model-00001-of-00002.safetensors:   4%|3         | 199M/5.34G [00:00<?, ?B/s]"
      ]
     },
     "metadata": {},
     "output_type": "display_data"
    },
    {
     "name": "stderr",
     "output_type": "stream",
     "text": [
      "⚠️ It looks like you upgraded from a version below 0.6 and could benefit from vacuuming your database. Run chromadb utils vacuum --help for more information.\n"
     ]
    },
    {
     "name": "stdout",
     "output_type": "stream",
     "text": [
      "512\n"
     ]
    }
   ],
   "source": [
    "model, tokenizer = load(\"mlx-community/quantized-gemma-7b-it\")\n",
    "rag_tasks = {0: {\"result\": \"Test\", \"prompt\": \"\", \"start\": 0}}\n",
    "rag = RAG(translator, tokenizer, translator, rag_tasks)\n",
    "\n",
    "data = rag.collection.get()\n",
    "print(len(data[\"documents\"]))"
   ]
  },
  {
   "cell_type": "code",
   "execution_count": 6,
   "metadata": {},
   "outputs": [
    {
     "name": "stderr",
     "output_type": "stream",
     "text": [
      "512it [17:48,  2.09s/it]\n"
     ]
    }
   ],
   "source": [
    "questions = []\n",
    "for id, document in tqdm(zip(data[\"ids\"], data[\"documents\"])):\n",
    "    prompt = f\"<start_of_turn>user Create a specific question for this text in the same language as the text: {document} <start_of_turn>model Sure, here is the question:\"\n",
    "    question = generate(model, tokenizer, prompt=prompt, verbose=False, max_tokens=1000)\n",
    "    question = question.replace(\"\\n\", \"\")\n",
    "    question = question.replace(\"*\", \"\")\n",
    "    questions.append(question)\n",
    "\n",
    "# Save questions\n",
    "with open(\"questions.txt\", \"w\") as f:\n",
    "    for question in questions:\n",
    "        f.write(question + \"\\n\")"
   ]
  },
  {
   "cell_type": "code",
   "execution_count": 7,
   "metadata": {},
   "outputs": [
    {
     "name": "stdout",
     "output_type": "stream",
     "text": [
      "What was the purpose of the Berlin Wall as described in this text?\n",
      "What is the specific charge against Trump in the Fulton County case related to the 2020 presidential election in Georgia?\n",
      "Did the passage describe the first time Trump's veto was overridden in his presidency?\n",
      "Did Trump attempt to influence Comey to stop the investigations against Michael Flynn, as reported by the New York Times (NYT)?\n",
      "Why was the first Ost German allowed to leave West-Berlin at 21:20 Uhr on Bornholmer Straße, and what was the issue with their Personalausweise?\n"
     ]
    }
   ],
   "source": [
    "import random\n",
    "random_questions = random.sample(questions, 5)\n",
    "for question in random_questions:\n",
    "    print(question)"
   ]
  },
  {
   "cell_type": "code",
   "execution_count": 6,
   "metadata": {},
   "outputs": [],
   "source": [
    "accuracies = {}\n",
    "lengths = [1, 2, 3, 4, 5]\n",
    "for n_results in lengths:\n",
    "    datapoints = []\n",
    "    for id, question in zip(data[\"ids\"], questions):\n",
    "        results = rag.collection.query(query_texts=question, n_results=n_results)\n",
    "        result_ids = results[\"ids\"][0]\n",
    "        if id in result_ids:\n",
    "            datapoints.append(1)\n",
    "        else:\n",
    "            datapoints.append(0)\n",
    "\n",
    "    accuracies[n_results] = sum(datapoints) / len(datapoints)"
   ]
  },
  {
   "cell_type": "code",
   "execution_count": 8,
   "metadata": {},
   "outputs": [
    {
     "data": {
      "image/png": "[encoded data removed]",
      "text/plain": [
       "<Figure size 500x300 with 1 Axes>"
      ]
     },
     "metadata": {},
     "output_type": "display_data"
    }
   ],
   "source": [
    "x = list(accuracies.keys())\n",
    "y = [value * 100 for value in list(accuracies.values())]\n",
    "\n",
    "plt.figure(figsize=(5, 3))\n",
    "plt.plot(x, y, marker='o', linestyle='-', color='b')\n",
    "plt.title('Accuracy of Retrieval')\n",
    "plt.xlabel('Number of Documents')\n",
    "plt.ylabel('Accuracy (%)')\n",
    "plt.ylim(60, 100)  # Set y-axis limits to show percentages clearly\n",
    "plt.grid(True)\n",
    "plt.xticks(x)  # Ensure all x-axis values are shown\n",
    "plt.show()"
   ]
  }
 ],
 "metadata": {
  "kernelspec": {
   "display_name": "llms",
   "language": "python",
   "name": "python3"
  },
  "language_info": {
   "codemirror_mode": {
    "name": "ipython",
    "version": 3
   },
   "file_extension": ".py",
   "mimetype": "text/x-python",
   "name": "python",
   "nbconvert_exporter": "python",
   "pygments_lexer": "ipython3",
   "version": "3.11.11"
  }
 },
 "nbformat": 4,
 "nbformat_minor": 2
}
