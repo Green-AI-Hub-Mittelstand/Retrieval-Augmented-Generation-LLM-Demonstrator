{
 "cells": [
  {
   "cell_type": "code",
   "execution_count": 1,
   "metadata": {},
   "outputs": [
    {
     "data": {
      "application/vnd.jupyter.widget-view+json": {
       "model_id": "f2c96bfc481c485abcd44f5304aba7dd",
       "version_major": 2,
       "version_minor": 0
      },
      "text/plain": [
       "Fetching 11 files:   0%|          | 0/11 [00:00<?, ?it/s]"
      ]
     },
     "metadata": {},
     "output_type": "display_data"
    },
    {
     "data": {
      "application/vnd.jupyter.widget-view+json": {
       "model_id": "f0f7098baae8475c8fdb351ab01b6011",
       "version_major": 2,
       "version_minor": 0
      },
      "text/plain": [
       "model-00003-of-00003.safetensors:   0%|          | 0.00/4.54G [00:00<?, ?B/s]"
      ]
     },
     "metadata": {},
     "output_type": "display_data"
    },
    {
     "name": "stdout",
     "output_type": "stream",
     "text": [
      "==========\n",
      "Prompt: hello\n",
      ",\n",
      "\n",
      "I'm trying to create a new project in visual studio 2010, but I'm getting an error message when I try to create a new project.\n",
      "\n",
      "The error message is:\n",
      "\n",
      "\"The project template file \"C:\\Program Files (x86)\\Microsoft SDKs\\SilverLight\\v4.0\\Packages\\Microsoft.VisualStudo.SilverLight.v4.0\\Tpl\\SLProjectItem\n",
      "==========\n",
      "Prompt: 2.020 tokens-per-sec\n",
      "Generation: 16.630 tokens-per-sec\n"
     ]
    }
   ],
   "source": [
    "from mlx_lm import load, generate\n",
    "\n",
    "model, tokenizer = load(\"mistralai/Mistral-7B-Instruct-v0.2\")\n",
    "\n",
    "response = generate(model, tokenizer, prompt=\"hello\", verbose=True)"
   ]
  }
 ],
 "metadata": {
  "kernelspec": {
   "display_name": "RAG",
   "language": "python",
   "name": "python3"
  },
  "language_info": {
   "codemirror_mode": {
    "name": "ipython",
    "version": 3
   },
   "file_extension": ".py",
   "mimetype": "text/x-python",
   "name": "python",
   "nbconvert_exporter": "python",
   "pygments_lexer": "ipython3",
   "version": "3.10.13"
  }
 },
 "nbformat": 4,
 "nbformat_minor": 2
}
